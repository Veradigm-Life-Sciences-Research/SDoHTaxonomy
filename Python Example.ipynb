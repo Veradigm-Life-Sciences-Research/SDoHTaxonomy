{
 "cells": [
  {
   "cell_type": "code",
   "execution_count": null,
   "metadata": {},
   "outputs": [],
   "source": [
    "### Load Packages\n",
    "\n",
    "import pyodbc\n",
    "import pandas as pd\n",
    "import numpy as np\n",
    "import pickle"
   ]
  },
  {
   "cell_type": "code",
   "execution_count": null,
   "metadata": {},
   "outputs": [],
   "source": [
    "### Open Python Format of SDH Taxonomy\n",
    "\n",
    "with open('SDOH_codes_complete.p', 'rb') as fp:\n",
    "    SDOH_code_map = pickle.load(fp)"
   ]
  },
  {
   "cell_type": "code",
   "execution_count": null,
   "metadata": {},
   "outputs": [],
   "source": [
    "### Create ICD-10 Codes Table\n",
    "\n",
    "icd10_codes_1 = {}\n",
    "\n",
    "for key in SDOH_code_map.keys():\n",
    "    icd10_codes_1[key] = (SDOH_code_map[key]['icd10'])\n",
    "\n",
    "icd10_codes_2 = {}\n",
    "for k,v in icd10_codes_1.items():\n",
    "    for x in v:\n",
    "        icd10_codes_2.setdefault(x,[]).append(k)\n",
    "        \n",
    "icd10table = pd.DataFrame(icd10_codes_2.items(), columns=['icd10', 'SDOH'])"
   ]
  },
  {
   "cell_type": "code",
   "execution_count": null,
   "metadata": {},
   "outputs": [],
   "source": [
    "### Clean-Up Table\n",
    "\n",
    "icd10table.icd10 = icd10table.icd10.astype(str)\n",
    "icd10table.icd10 = icd10table.icd10.str.upper()\n",
    "\n",
    "icd10table['SDOH'] = icd10table['SDOH'].astype(str).replace(\"\\['\", '', regex=True)\n",
    "icd10table['SDOH'] = icd10table['SDOH'].astype(str).replace(\"\\']\", '', regex=True)\n",
    "\n",
    "icd10table.head(3)"
   ]
  },
  {
   "cell_type": "code",
   "execution_count": null,
   "metadata": {},
   "outputs": [],
   "source": [
    "## Create Codes List\n",
    "\n",
    "icd10s = list(icd10table['icd10'])"
   ]
  },
  {
   "cell_type": "code",
   "execution_count": null,
   "metadata": {},
   "outputs": [],
   "source": [
    "### Connect to Database and Run SQL Query\n",
    "\n",
    "dsn_name = \"DSN=DBS_4_Python\"\n",
    "conn = pyodbc.connect(dsn_name)\n",
    "cur = conn.cursor()\n",
    "\n",
    "sql_deid = \"\"\"\n",
    "SELECT * FROM dbs.schema.diagnosis_table WHERE UPPER(icd10) in {} ;\n",
    "\"\"\".format('('+str(icd10s)[1:-1]+')')\n",
    "\n",
    "icd10_data = pd.read_sql(sql_deid, conn)\n",
    "\n",
    "### Note, this is just one example of connecting to a ODBC database system and pulling its data directly into \n",
    "### a python environment. Please review documentation for the pyodbc package at \n",
    "### https://github.com/mkleehammer/pyodbc and contact your DBMS administrator for instructions on how to access \n",
    "### your specific database system"
   ]
  },
  {
   "cell_type": "code",
   "execution_count": null,
   "metadata": {},
   "outputs": [],
   "source": [
    "### Attached SDH Lables to the Extracted Data\n",
    "\n",
    "labled_icd10_data = pd.merge(icd10_data, icd10table, how='left',on=['icd10'])"
   ]
  },
  {
   "cell_type": "code",
   "execution_count": 11,
   "metadata": {},
   "outputs": [],
   "source": [
    "### Alternatively, you can save your python dataframe as a csv and upload it to your DBMS as a table. You can then run SQL \n",
    "## querys and JOINS to extract and label SDH data.\n",
    "\n",
    "icd10table.to_csv(\"icd10_table.csv\")\n",
    "\n",
    "### SQL Example\n",
    "\n",
    "SELECT boo.*, coo.SDOH FROM\n",
    "    (SELECT * FROM dbs.schema.diagnosis_table WHERE UPPER(icd10) IN \n",
    "        (SELECT icd10 FROM sandbox.schema.icd10_table)) as boo\n",
    "    LEFT JOIN  (SELECT * FROM sandbox.schema.icd10_table) as coo\n",
    "    ON boo.icd10 = coo.icd10"
   ]
  },
  {
   "cell_type": "code",
   "execution_count": null,
   "metadata": {},
   "outputs": [],
   "source": []
  }
 ],
 "metadata": {
  "kernelspec": {
   "display_name": "Python 3",
   "language": "python",
   "name": "python3"
  },
  "language_info": {
   "codemirror_mode": {
    "name": "ipython",
    "version": 3
   },
   "file_extension": ".py",
   "mimetype": "text/x-python",
   "name": "python",
   "nbconvert_exporter": "python",
   "pygments_lexer": "ipython3",
   "version": "3.8.3"
  }
 },
 "nbformat": 4,
 "nbformat_minor": 4
}
